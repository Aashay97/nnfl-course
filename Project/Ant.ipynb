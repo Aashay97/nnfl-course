{
 "cells": [
  {
   "cell_type": "code",
   "execution_count": 1,
   "metadata": {},
   "outputs": [
    {
     "name": "stderr",
     "output_type": "stream",
     "text": [
      "/Users/smithshah/anaconda3/lib/python3.6/site-packages/h5py/__init__.py:34: FutureWarning: Conversion of the second argument of issubdtype from `float` to `np.floating` is deprecated. In future, it will be treated as `np.float64 == np.dtype(float).type`.\n",
      "  from ._conv import register_converters as _register_converters\n",
      "Using TensorFlow backend.\n"
     ]
    }
   ],
   "source": [
    "import gym\n",
    "import load_policy\n",
    "from keras.models import Sequential\n",
    "from keras.layers import Dense\n",
    "import keras\n",
    "import matplotlib.pyplot as plt\n",
    "import numpy as np\n",
    "import pickle\n",
    "import tensorflow as tf\n",
    "%matplotlib inline"
   ]
  },
  {
   "cell_type": "code",
   "execution_count": 2,
   "metadata": {
    "collapsed": true
   },
   "outputs": [],
   "source": [
    "args = ({ \n",
    "    'epochs': 50, \n",
    "    'render' : False,  \n",
    "    'timesteps_max' : 300,\n",
    "    'env':'Ant-v2',  \n",
    "    'size_batch': 128,\n",
    "    'rollouts' : 5,\n",
    "    'expert_policy_pickle_file' : 'experts/Ant-v2.pkl'\n",
    "})\n",
    "\n",
    "# Generate plt\n",
    "#def plot_create(x,y,title):\n",
    " #   fig, ax = plt.subplots( nrows=1, ncols=1 )\n",
    " #   ax.set_xlabel(x)\n",
    " #   ax.set_ylabel(y)\n",
    " #   ax.set_title(title)    \n",
    " #   return ax\n"
   ]
  },
  {
   "cell_type": "code",
   "execution_count": 3,
   "metadata": {
    "collapsed": true
   },
   "outputs": [],
   "source": [
    "class Environment:\n",
    "    \n",
    "    def run_policy(self, agent, max_steps, render,rollouts):\n",
    "        with self.session.as_default():\n",
    "            returns = []\n",
    "            observations = []\n",
    "            actions = []\n",
    "            for i in range(rollouts):\n",
    "                obs = self.env.reset()\n",
    "                cumulative_reward = 0\n",
    "                steps = 0\n",
    "                gameover = False\n",
    "                \n",
    "                while not gameover:\n",
    "                    action = agent.action(obs)\n",
    "                    observations.append(obs)\n",
    "                    actions.append(np.squeeze(action))\n",
    "                    obs, reward, gameover, _ = self.env.step(action)\n",
    "                    cumulative_reward += reward\n",
    "                    steps += 1\n",
    "                    if render:\n",
    "                        self.env.render()\n",
    "                        \n",
    "                    if steps >= max_steps:\n",
    "                        break\n",
    "                if steps < max_steps:\n",
    "                    print('\\tGame over at step %i' % steps)\n",
    "                \n",
    "                print('\\tGame simulation %i/%i return=%f' % (i+1, rollouts, cumulative_reward))\n",
    "                returns.append(cumulative_reward)\n",
    "            \n",
    "            print('Return summary: mean=%f, std=%f' % (np.mean(returns), np.std(returns)))\n",
    "            agent.store_reward(returns)\n",
    "            return [np.array(observations), np.array(actions)]\n",
    "    \n",
    "    \n",
    "    def get_total_reward(self, agent, max_steps, render):\n",
    "        with self.session.as_default():\n",
    "            obs = self.env.reset()\n",
    "            cumulative_reward = 0\n",
    "            steps = 0\n",
    "            gameover = False\n",
    "                \n",
    "            while not gameover:\n",
    "                action = agent.action(obs)\n",
    "                obs, reward, gameover, _ = self.env.step(action)\n",
    "                cumulative_reward += reward\n",
    "                steps += 1\n",
    "                if render:\n",
    "                    self.env.render()\n",
    "                        \n",
    "                if steps >= max_steps:\n",
    "                    break\n",
    "            return cumulative_reward\n",
    "            \n",
    "    def __init__(self, envname):\n",
    "        self.init(envname)\n",
    "        self.envname = envname\n",
    "        \n",
    "    def init(self, envname):\n",
    "        self.session = tf.Session()\n",
    "        self.session.run(tf.global_variables_initializer())\n",
    "        self.env = gym.make(envname)\n",
    "    \n",
    "    def reset(self):\n",
    "        self.session.close()\n",
    "        self.init(self.envname)\n",
    "        \n",
    "    def label_obs(self, exp, obs):\n",
    "        with self.session.as_default():\n",
    "            return exp.policy_fn(obs)\n",
    "        \n",
    "\n",
    "class Agent:\n",
    "    def __init__(self, data_dim):\n",
    "        self.model = Sequential();\n",
    "        self.model.add(Dense(80, input_dim=data_dim[0], activation='relu', kernel_initializer = 'glorot_normal'))\n",
    "        self.model.add(Dense(40, activation = 'relu', kernel_initializer = 'glorot_normal'))\n",
    "        self.model.add(Dense(units=data_dim[1]))\n",
    "        self.model.compile(loss='mse', optimizer='adam')\n",
    "        self.history = []\n",
    "        self.rewards = []\n",
    "\n",
    "    def action(self, obs):\n",
    "        X = np.expand_dims(obs, 0)\n",
    "        return self.model.predict(X, batch_size=200, verbose=0)\n",
    "    \n",
    "    def store_reward(self, reward):\n",
    "        self.rewards.append(np.mean(reward))\n",
    "    \n",
    "    def train(self, training_data, size_batch, epochs):\n",
    "        history = self.model.fit(training_data[0], training_data[1], size_batch, epochs, 0)\n",
    "        self.history.append(np.mean(history.history['loss']))\n",
    "\n",
    "class Expert:\n",
    "    def __init__(self, expert_policy_pickle_file):\n",
    "        self.policy_fn = load_policy.load_policy(expert_policy_pickle_file)\n",
    "\n",
    "    def store_reward(self, reward):\n",
    "        pass\n",
    "    \n",
    "    def action(self, obs):\n",
    "        return self.policy_fn(obs[None,:])\n",
    "    \n",
    "    \n",
    "\n",
    "\n"
   ]
  },
  {
   "cell_type": "code",
   "execution_count": 4,
   "metadata": {},
   "outputs": [
    {
     "name": "stdout",
     "output_type": "stream",
     "text": [
      "obs (1, 111) (1, 111)\n"
     ]
    }
   ],
   "source": [
    "expert = Expert(args['expert_policy_pickle_file'])"
   ]
  },
  {
   "cell_type": "code",
   "execution_count": 5,
   "metadata": {},
   "outputs": [
    {
     "name": "stderr",
     "output_type": "stream",
     "text": [
      "/Users/smithshah/anaconda3/lib/python3.6/site-packages/gym/envs/registration.py:14: PkgResourcesDeprecationWarning: Parameters to load are deprecated.  Call .resolve and .require separately.\n",
      "  result = entry_point.load(False)\n"
     ]
    },
    {
     "name": "stdout",
     "output_type": "stream",
     "text": [
      "\u001b[33mWARN: gym.spaces.Box autodetected dtype as <class 'numpy.float32'>. Please provide explicit dtype.\u001b[0m\n",
      "\u001b[33mWARN: gym.spaces.Box autodetected dtype as <class 'numpy.float32'>. Please provide explicit dtype.\u001b[0m\n",
      "\tGame simulation 1/5 return=1351.414661\n",
      "\tGame simulation 2/5 return=1404.806722\n",
      "\tGame simulation 3/5 return=1401.858417\n",
      "\tGame simulation 4/5 return=1507.811969\n",
      "\tGame simulation 5/5 return=1372.719104\n",
      "Return summary: mean=1407.722175, std=53.770999\n"
     ]
    }
   ],
   "source": [
    "# Generate training data\n",
    "environment = Environment(args['env'])\n",
    "training_data = environment.run_policy(expert, max_steps=args['timesteps_max'],  render=False, rollouts=args['rollouts'])"
   ]
  },
  {
   "cell_type": "code",
   "execution_count": 6,
   "metadata": {},
   "outputs": [
    {
     "name": "stdout",
     "output_type": "stream",
     "text": [
      "WARNING:tensorflow:From /Users/smithshah/anaconda3/lib/python3.6/site-packages/keras/backend/tensorflow_backend.py:1349: calling reduce_mean (from tensorflow.python.ops.math_ops) with keep_dims is deprecated and will be removed in a future version.\n",
      "Instructions for updating:\n",
      "keep_dims is deprecated, use keepdims instead\n"
     ]
    }
   ],
   "source": [
    "data_dim = (training_data[0].shape[-1], training_data[1].shape[-1])\n",
    "dagger = Agent(data_dim)\n",
    "dagger.train(training_data, size_batch=args['size_batch'], epochs=args['epochs'])\n",
    "#print(training_data[1])"
   ]
  },
  {
   "cell_type": "code",
   "execution_count": 7,
   "metadata": {},
   "outputs": [
    {
     "name": "stderr",
     "output_type": "stream",
     "text": [
      "/Users/smithshah/anaconda3/lib/python3.6/site-packages/gym/envs/registration.py:14: PkgResourcesDeprecationWarning: Parameters to load are deprecated.  Call .resolve and .require separately.\n",
      "  result = entry_point.load(False)\n"
     ]
    },
    {
     "name": "stdout",
     "output_type": "stream",
     "text": [
      "\u001b[33mWARN: gym.spaces.Box autodetected dtype as <class 'numpy.float32'>. Please provide explicit dtype.\u001b[0m\n",
      "\u001b[33mWARN: gym.spaces.Box autodetected dtype as <class 'numpy.float32'>. Please provide explicit dtype.\u001b[0m\n",
      "Train with DAgger, iter 2\n",
      "\tGame simulation 1/5 return=147.887943\n",
      "\tGame over at step 29\n",
      "\tGame simulation 2/5 return=-11.439746\n",
      "\tGame simulation 3/5 return=48.810546\n",
      "\tGame over at step 196\n",
      "\tGame simulation 4/5 return=-26.919502\n",
      "\tGame over at step 38\n",
      "\tGame simulation 5/5 return=-23.572278\n",
      "Return summary: mean=26.953393, std=66.380819\n",
      "Train with DAgger, iter 3\n",
      "\tGame simulation 1/5 return=1036.647818\n",
      "\tGame simulation 2/5 return=713.056881\n",
      "\tGame simulation 3/5 return=532.090338\n",
      "\tGame simulation 4/5 return=553.692740\n",
      "\tGame simulation 5/5 return=494.691645\n",
      "Return summary: mean=666.035885, std=199.742544\n",
      "Train with DAgger, iter 4\n",
      "\tGame simulation 1/5 return=1291.771249\n",
      "\tGame simulation 2/5 return=1331.755496\n",
      "\tGame simulation 3/5 return=1333.316087\n",
      "\tGame simulation 4/5 return=1260.844227\n",
      "\tGame simulation 5/5 return=1120.602509\n",
      "Return summary: mean=1267.657913, std=78.323262\n",
      "Train with DAgger, iter 5\n",
      "\tGame simulation 1/5 return=1335.851228\n",
      "\tGame simulation 2/5 return=1283.434617\n",
      "\tGame simulation 3/5 return=1380.812921\n",
      "\tGame simulation 4/5 return=1255.808539\n",
      "\tGame simulation 5/5 return=1418.943494\n",
      "Return summary: mean=1334.970160, std=60.127082\n",
      "Train with DAgger, iter 6\n",
      "\tGame simulation 1/5 return=1323.999582\n",
      "\tGame simulation 2/5 return=1419.454076\n",
      "\tGame simulation 3/5 return=1457.409299\n",
      "\tGame simulation 4/5 return=1279.308555\n",
      "\tGame simulation 5/5 return=1411.407157\n",
      "Return summary: mean=1378.315734, std=66.024031\n",
      "Train with DAgger, iter 7\n",
      "\tGame simulation 1/5 return=1375.600161\n",
      "\tGame over at step 128\n",
      "\tGame simulation 2/5 return=560.688082\n",
      "\tGame simulation 3/5 return=1352.548236\n",
      "\tGame simulation 4/5 return=1422.113658\n",
      "\tGame simulation 5/5 return=1283.872421\n",
      "Return summary: mean=1198.964512, std=322.238982\n",
      "Train with DAgger, iter 8\n",
      "\tGame simulation 1/5 return=1332.261890\n",
      "\tGame simulation 2/5 return=1468.116298\n",
      "\tGame simulation 3/5 return=1305.832959\n",
      "\tGame simulation 4/5 return=1355.843280\n",
      "\tGame simulation 5/5 return=1393.912378\n",
      "Return summary: mean=1371.193361, std=56.450821\n",
      "Train with DAgger, iter 9\n",
      "\tGame simulation 1/5 return=1317.136562\n",
      "\tGame simulation 2/5 return=1364.534514\n",
      "\tGame simulation 3/5 return=1333.031022\n",
      "\tGame simulation 4/5 return=1423.894467\n",
      "\tGame simulation 5/5 return=1368.847516\n",
      "Return summary: mean=1361.488816, std=36.701119\n",
      "Train with DAgger, iter 10\n",
      "\tGame simulation 1/5 return=1427.321966\n",
      "\tGame simulation 2/5 return=1356.877024\n",
      "\tGame simulation 3/5 return=1379.426959\n",
      "\tGame simulation 4/5 return=1378.003849\n",
      "\tGame simulation 5/5 return=1450.132640\n",
      "Return summary: mean=1398.352488, std=34.678153\n"
     ]
    }
   ],
   "source": [
    "# Train DAgger Agent\n",
    "beta = 0.95\n",
    "environment.reset()\n",
    "tdata = [training_data[0],training_data[1]]\n",
    "for i in range(2, 11):\n",
    "    print(\"Train with DAgger, iter %i\" % i)\n",
    "    beta = 0.95**(i-1)\n",
    "    [env_obs, agent_labels] = environment.run_policy(dagger, max_steps=args['timesteps_max'], render=False, rollouts=args['rollouts'])\n",
    "    labels = environment.label_obs(expert, env_obs)\n",
    "    tdata[0]=np.concatenate((tdata[0],env_obs))\n",
    "    tdata[1]=np.concatenate((tdata[1],beta*labels + (1-beta)*agent_labels))\n",
    "    with environment.session.as_default():\n",
    "        dagger.train(tdata, size_batch=args['size_batch'], epochs=args['epochs'])"
   ]
  },
  {
   "cell_type": "code",
   "execution_count": 8,
   "metadata": {},
   "outputs": [
    {
     "data": {
      "image/png": "[encoded data removed]",
      "text/plain": [
       "<matplotlib.figure.Figure at 0x18250a0780>"
      ]
     },
     "metadata": {},
     "output_type": "display_data"
    }
   ],
   "source": [
    "plt.plot(dagger.history,label='Dagger')\n",
    "plt.ylabel('Training Loss')\n",
    "plt.xlabel('Epoch')\n",
    "plt.title('Dagger Loss')\n",
    "plt.legend()\n",
    "plt.show()"
   ]
  },
  {
   "cell_type": "code",
   "execution_count": 9,
   "metadata": {},
   "outputs": [
    {
     "data": {
      "image/png": "[encoded data removed]",
      "text/plain": [
       "<matplotlib.figure.Figure at 0x1825114278>"
      ]
     },
     "metadata": {},
     "output_type": "display_data"
    }
   ],
   "source": [
    "plt.plot(dagger.rewards,label='Dagger')\n",
    "plt.ylabel('Environment Return')\n",
    "plt.xlabel('Epoch')\n",
    "plt.title('Dagger Return')\n",
    "plt.legend()\n",
    "plt.show()"
   ]
  },
  {
   "cell_type": "code",
   "execution_count": 10,
   "metadata": {
    "collapsed": true
   },
   "outputs": [],
   "source": [
    "expertreward = environment.get_total_reward(expert, 10000, render=False)\n",
    "agentreward = environment.get_total_reward(dagger, 10000, render=False)"
   ]
  },
  {
   "cell_type": "code",
   "execution_count": 11,
   "metadata": {
    "scrolled": true
   },
   "outputs": [
    {
     "name": "stdout",
     "output_type": "stream",
     "text": [
      "4828.083567953632\n",
      "4808.427315351999\n"
     ]
    }
   ],
   "source": [
    "print(expertreward)\n",
    "print(agentreward)"
   ]
  },
  {
   "cell_type": "code",
   "execution_count": null,
   "metadata": {
    "collapsed": true
   },
   "outputs": [],
   "source": []
  }
 ],
 "metadata": {
  "kernelspec": {
   "display_name": "Python 3",
   "language": "python",
   "name": "python3"
  },
  "language_info": {
   "codemirror_mode": {
    "name": "ipython",
    "version": 3
   },
   "file_extension": ".py",
   "mimetype": "text/x-python",
   "name": "python",
   "nbconvert_exporter": "python",
   "pygments_lexer": "ipython3",
   "version": "3.6.8"
  }
 },
 "nbformat": 4,
 "nbformat_minor": 2
}
